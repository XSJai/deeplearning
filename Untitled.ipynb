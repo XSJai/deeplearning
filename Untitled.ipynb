{
 "cells": [
  {
   "cell_type": "code",
   "execution_count": 1,
   "id": "b5ce78dc-8390-4cfa-aa68-0a04188f84ae",
   "metadata": {},
   "outputs": [
    {
     "name": "stdout",
     "output_type": "stream",
     "text": [
      "未清零梯度前的梯度：\n",
      "参数 weight 的梯度:  tensor([[-0.0152, -0.2535,  0.2191, -0.1092, -0.0443,  0.3424, -0.1235,  0.0609,\n",
      "         -0.2795, -0.2516],\n",
      "        [-0.0254, -0.4232,  0.3656, -0.1823, -0.0739,  0.5715, -0.2061,  0.1017,\n",
      "         -0.4664, -0.4199],\n",
      "        [-0.0082, -0.1365,  0.1180, -0.0588, -0.0238,  0.1844, -0.0665,  0.0328,\n",
      "         -0.1505, -0.1355],\n",
      "        [-0.0185, -0.3086,  0.2666, -0.1329, -0.0539,  0.4167, -0.1503,  0.0741,\n",
      "         -0.3401, -0.3062],\n",
      "        [ 0.0674,  1.1218, -0.9693,  0.4832,  0.1958, -1.5150,  0.5464, -0.2695,\n",
      "          1.2366,  1.1132]])\n",
      "参数 bias 的梯度:  tensor([ 0.1915,  0.3196,  0.1031,  0.2331, -0.8473])\n",
      "清零梯度后的梯度：\n",
      "参数 weight 的梯度:  None\n",
      "参数 bias 的梯度:  None\n",
      "未清零梯度前的梯度：\n",
      "参数 weight 的梯度:  tensor([[ 0.0974,  0.1006, -0.0285, -0.0512,  0.1889, -0.0087, -0.1512, -0.0388,\n",
      "         -0.1098, -0.0125],\n",
      "        [ 0.1339,  0.1382, -0.0392, -0.0704,  0.2597, -0.0119, -0.2078, -0.0533,\n",
      "         -0.1509, -0.0172],\n",
      "        [ 0.1582,  0.1634, -0.0463, -0.0832,  0.3069, -0.0141, -0.2456, -0.0630,\n",
      "         -0.1784, -0.0203],\n",
      "        [-0.5735, -0.5920,  0.1678,  0.3014, -1.1124,  0.0511,  0.8901,  0.2282,\n",
      "          0.6465,  0.0737],\n",
      "        [ 0.1840,  0.1899, -0.0538, -0.0967,  0.3568, -0.0164, -0.2855, -0.0732,\n",
      "         -0.2074, -0.0237]])\n",
      "参数 bias 的梯度:  tensor([ 0.1375,  0.1890,  0.2234, -0.8096,  0.2597])\n",
      "清零梯度后的梯度：\n",
      "参数 weight 的梯度:  None\n",
      "参数 bias 的梯度:  None\n",
      "未清零梯度前的梯度：\n",
      "参数 weight 的梯度:  tensor([[ 0.4013, -0.0481, -0.6644,  0.1015, -0.0879, -0.3868, -0.2513, -0.2427,\n",
      "         -0.4305,  0.1381],\n",
      "        [ 0.2375, -0.0284, -0.3932,  0.0601, -0.0520, -0.2289, -0.1487, -0.1436,\n",
      "         -0.2548,  0.0817],\n",
      "        [ 0.1402, -0.0168, -0.2321,  0.0355, -0.0307, -0.1351, -0.0878, -0.0848,\n",
      "         -0.1504,  0.0483],\n",
      "        [-0.9169,  0.1098,  1.5180, -0.2319,  0.2008,  0.8837,  0.5742,  0.5545,\n",
      "          0.9836, -0.3156],\n",
      "        [ 0.1379, -0.0165, -0.2284,  0.0349, -0.0302, -0.1329, -0.0864, -0.0834,\n",
      "         -0.1480,  0.0475]])\n",
      "参数 bias 的梯度:  tensor([ 0.3888,  0.2301,  0.1358, -0.8884,  0.1336])\n",
      "清零梯度后的梯度：\n",
      "参数 weight 的梯度:  None\n",
      "参数 bias 的梯度:  None\n"
     ]
    }
   ],
   "source": [
    "import torch\n",
    "import torch.nn as nn\n",
    "\n",
    "# 定义一个简单的线性模型\n",
    "model = nn.Linear(10, 5)\n",
    "# 定义优化器\n",
    "optimizer = torch.optim.SGD(model.parameters(), lr=0.01)\n",
    "\n",
    "# 模拟前向传播和反向传播多次\n",
    "for _ in range(3):\n",
    "    # 随机生成输入数据\n",
    "    inputs = torch.randn(1, 10)\n",
    "    # 真实标签\n",
    "    targets = torch.randint(0, 5, (1,))\n",
    "\n",
    "    # 前向传播\n",
    "    outputs = model(inputs)\n",
    "    # 计算损失\n",
    "    loss = nn.CrossEntropyLoss()(outputs, targets)\n",
    "\n",
    "    # 反向传播计算梯度\n",
    "    loss.backward()\n",
    "\n",
    "    # 打印梯度值（如果不使用 zero_grad ，梯度会累加）\n",
    "    print(\"未清零梯度前的梯度：\")\n",
    "    for name, param in model.named_parameters():\n",
    "        print(f\"参数 {name} 的梯度: \", param.grad)\n",
    "\n",
    "    # 清零梯度\n",
    "    optimizer.zero_grad()\n",
    "\n",
    "    # 打印清零后的梯度\n",
    "    print(\"清零梯度后的梯度：\")\n",
    "    for name, param in model.named_parameters():\n",
    "        print(f\"参数 {name} 的梯度: \", param.grad)\n"
   ]
  },
  {
   "cell_type": "code",
   "execution_count": 4,
   "id": "88049cd6-4f5b-4f81-9839-9432ad0775fc",
   "metadata": {},
   "outputs": [
    {
     "name": "stdout",
     "output_type": "stream",
     "text": [
      "x1 的梯度： None\n",
      "x2 的梯度： tensor([2., 4., 6.])\n"
     ]
    }
   ],
   "source": [
    "import torch\n",
    "\n",
    "# 创建一个不需要梯度的输入 Tensor\n",
    "x1 = torch.tensor([1.0, 2.0, 3.0])\n",
    "# 创建一个需要梯度的输入 Tensor\n",
    "x2 = torch.tensor([1.0, 2.0, 3.0], requires_grad=True)\n",
    "\n",
    "# 假设进行一些计算\n",
    "y1 = x1 * 2\n",
    "y2 = x1 * x2 * 2\n",
    "\n",
    "# 进行反向传播\n",
    "y2.backward(torch.ones_like(y2))\n",
    "# y1.backward(torch.ones_like(y1))\n",
    "\n",
    "# 查看梯度\n",
    "print(\"x1 的梯度：\", x1.grad)  # 输出为 None，因为 x1 不需要梯度\n",
    "print(\"x2 的梯度：\", x2.grad)  # 输出为 [2., 2., 2.]\n"
   ]
  },
  {
   "cell_type": "code",
   "execution_count": 41,
   "id": "be545810-93f2-43b2-93ef-9f5cffbad644",
   "metadata": {},
   "outputs": [
    {
     "name": "stdout",
     "output_type": "stream",
     "text": [
      "第 1 次迭代的梯度： tensor([-12.])\n",
      "第 2 次迭代的梯度： tensor([-12.])\n",
      "第 3 次迭代的梯度： tensor([-12.])\n"
     ]
    }
   ],
   "source": [
    "import torch\n",
    "import torch.optim as optim\n",
    "\n",
    "\n",
    "# 假设一个简单的模型参数\n",
    "weight = torch.tensor([1.0], requires_grad=True)\n",
    "\n",
    "# 模拟多次迭代\n",
    "for i in range(3):\n",
    "    \n",
    "    # 前向计算\n",
    "    output = weight * 2\n",
    "    # 定义损失\n",
    "    loss = (output - 5) ** 2\n",
    "\n",
    "    # 反向传播计算梯度\n",
    "    loss.backward()\n",
    "    \n",
    "    print(f\"第 {i + 1} 次迭代的梯度：\", weight.grad)\n",
    "    \n",
    "    weight.grad.zero_()\n"
   ]
  },
  {
   "cell_type": "code",
   "execution_count": 31,
   "id": "b0d85de0-7373-4edf-8835-9f7485848be1",
   "metadata": {},
   "outputs": [
    {
     "name": "stdout",
     "output_type": "stream",
     "text": [
      "tensor([-12.])\n"
     ]
    }
   ],
   "source": [
    "import torch\n",
    "\n",
    "w = torch.tensor([1.0], requires_grad=True)\n",
    "\n",
    "out = w * 2\n",
    "loss = (out - 5) ** 2\n",
    "\n",
    "loss.backward()\n",
    "print(w.grad)"
   ]
  },
  {
   "cell_type": "code",
   "execution_count": 38,
   "id": "f681630d-f15c-460f-ac1c-ea57c5243f3f",
   "metadata": {},
   "outputs": [
    {
     "ename": "TypeError",
     "evalue": "argument 0 is not a Variable",
     "output_type": "error",
     "traceback": [
      "\u001b[0;31m---------------------------------------------------------------------------\u001b[0m",
      "\u001b[0;31mTypeError\u001b[0m                                 Traceback (most recent call last)",
      "Cell \u001b[0;32mIn[38], line 1\u001b[0m\n\u001b[0;32m----> 1\u001b[0m \u001b[43mloss\u001b[49m\u001b[38;5;241;43m.\u001b[39;49m\u001b[43mgrad_fn\u001b[49m\u001b[43m(\u001b[49m\u001b[38;5;241;43m4\u001b[39;49m\u001b[43m)\u001b[49m\n",
      "\u001b[0;31mTypeError\u001b[0m: argument 0 is not a Variable"
     ]
    }
   ],
   "source": [
    "loss.grad_fn(4)"
   ]
  },
  {
   "cell_type": "code",
   "execution_count": 44,
   "id": "adadadfc-fa87-4d56-b3ea-968a48fd2fbf",
   "metadata": {},
   "outputs": [
    {
     "data": {
      "text/plain": [
       "True"
      ]
     },
     "execution_count": 44,
     "metadata": {},
     "output_type": "execute_result"
    }
   ],
   "source": [
    "w = torch.tensor([1.0], requires_grad=True)\n",
    "w.requires_grad"
   ]
  },
  {
   "cell_type": "code",
   "execution_count": null,
   "id": "a0988a51-fe32-43c6-be37-f1531a2627a0",
   "metadata": {},
   "outputs": [],
   "source": []
  },
  {
   "cell_type": "code",
   "execution_count": null,
   "id": "7a1a4519-de40-4266-b589-105aa1397781",
   "metadata": {},
   "outputs": [],
   "source": []
  },
  {
   "cell_type": "code",
   "execution_count": null,
   "id": "9d61555c-4afb-43d4-8fac-92fdfda868e6",
   "metadata": {},
   "outputs": [],
   "source": []
  }
 ],
 "metadata": {
  "kernelspec": {
   "display_name": "Python 3 (ipykernel)",
   "language": "python",
   "name": "python3"
  },
  "language_info": {
   "codemirror_mode": {
    "name": "ipython",
    "version": 3
   },
   "file_extension": ".py",
   "mimetype": "text/x-python",
   "name": "python",
   "nbconvert_exporter": "python",
   "pygments_lexer": "ipython3",
   "version": "3.10.9"
  }
 },
 "nbformat": 4,
 "nbformat_minor": 5
}
